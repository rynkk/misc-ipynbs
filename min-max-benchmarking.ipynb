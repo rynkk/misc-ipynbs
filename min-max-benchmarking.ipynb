{
 "cells": [
  {
   "cell_type": "code",
   "execution_count": null,
   "id": "732be2a7",
   "metadata": {},
   "outputs": [],
   "source": [
    "import concurrent\n",
    "import numpy as np\n",
    "import numba as nb\n",
    "import dask.array as da\n",
    "import time\n",
    "import matplotlib.pyplot as plt\n",
    "from math import isnan, inf"
   ]
  },
  {
   "cell_type": "code",
   "execution_count": null,
   "id": "c3f1fd5a",
   "metadata": {},
   "outputs": [],
   "source": [
    "def np_min_max(arr):\n",
    "    return np.nanmin(arr), np.nanmax(arr)\n",
    "\n",
    "def test_tpe(arr):\n",
    "    thread_results = list()\n",
    "    with concurrent.futures.ThreadPoolExecutor() as executor: \n",
    "         for result in executor.map(np_min_max, arr):\n",
    "                thread_results.append(result)\n",
    "    return np_min_max(thread_results)\n",
    "\n",
    "def dask_min_max(arr):\n",
    "    np.nanmin(arr).compute().item(), np.nanmax(arr).compute().item()"
   ]
  },
  {
   "cell_type": "code",
   "execution_count": null,
   "id": "a5015bc5",
   "metadata": {},
   "outputs": [],
   "source": [
    "@nb.njit(fastmath=True)\n",
    "def _minmax_nan(x):\n",
    "    maximum = -inf\n",
    "    minimum = inf\n",
    "    for i in x:\n",
    "        if not isnan(i):\n",
    "            if i > maximum:\n",
    "                maximum = i\n",
    "            if i < minimum:\n",
    "                minimum = i\n",
    "    return minimum, maximum\n",
    "\n",
    "@nb.njit(parallel=True)\n",
    "def _minmax_chunks_nan(x, chunk_ranges):\n",
    "    overall_maxima = []\n",
    "    overall_minima = []\n",
    "    for i in nb.prange(chunk_ranges.shape[0]):\n",
    "        start = chunk_ranges[i, 0]\n",
    "        end = chunk_ranges[i, 1]\n",
    "        chunk_minimum, chunk_maximum = _minmax_nan(x[start : end])\n",
    "        overall_maxima.append(chunk_maximum)\n",
    "        overall_minima.append(chunk_minimum)\n",
    "    return min(overall_minima), max(overall_maxima)\n",
    "\n",
    "def even_chunk_sizes(dividend, divisor):\n",
    "    quotient, remainder = divmod(dividend, divisor)\n",
    "    cells = [quotient for _ in range(divisor)]\n",
    "    for i in range(remainder):\n",
    "        cells[i] += 1\n",
    "    return cells\n",
    "\n",
    "def even_chunk_ranges(dividend, divisor):\n",
    "    sizes = even_chunk_sizes(dividend, divisor)\n",
    "    ranges = []\n",
    "    start = 0\n",
    "    for s in sizes:\n",
    "        end = start + s\n",
    "        ranges.append((start, end))\n",
    "        start = end\n",
    "    return ranges\n",
    "\n",
    "def nanminmax_parallel(x, n_chunks):\n",
    "    chunk_ranges = np.array([\n",
    "        [start, end]\n",
    "        for start, end\n",
    "        in even_chunk_ranges(len(x), n_chunks)\n",
    "    ], dtype=np.int64)\n",
    "    return _minmax_chunks_nan(x, chunk_ranges)"
   ]
  },
  {
   "cell_type": "code",
   "execution_count": null,
   "id": "4bf391c5",
   "metadata": {},
   "outputs": [],
   "source": [
    "#chunked_flat_np_arr = np.split(flat, 16)\n",
    "#%timeit test_tpe(chunked_flat_np_arr)"
   ]
  },
  {
   "cell_type": "code",
   "execution_count": null,
   "id": "5c4d2ed1",
   "metadata": {},
   "outputs": [],
   "source": [
    "#flat = np.random.rand(100000000)  # 100 million"
   ]
  },
  {
   "cell_type": "code",
   "execution_count": null,
   "id": "033e300a",
   "metadata": {},
   "outputs": [],
   "source": [
    "#%timeit np_min_max(flat)"
   ]
  },
  {
   "cell_type": "code",
   "execution_count": null,
   "id": "8cbdc2f2",
   "metadata": {
    "scrolled": true
   },
   "outputs": [],
   "source": [
    "#%timeit minmax(flat)"
   ]
  },
  {
   "cell_type": "code",
   "execution_count": null,
   "id": "09fdb4f2",
   "metadata": {},
   "outputs": [],
   "source": [
    "#%timeit nb_min_max(flat)"
   ]
  },
  {
   "cell_type": "code",
   "execution_count": null,
   "id": "0d3bb907",
   "metadata": {},
   "outputs": [],
   "source": [
    "#dask_arr = da.from_array(flat)\n",
    "#%timeit dask_min_max(dask_arr)"
   ]
  },
  {
   "cell_type": "code",
   "execution_count": null,
   "id": "04a46c7c",
   "metadata": {},
   "outputs": [],
   "source": [
    "def time_multithreaded(arr, reps):\n",
    "    start_setup = time.perf_counter()\n",
    "    chunked_flat_np_arr = np.array_split(arr, 16)\n",
    "    setup_time = time.perf_counter() - start_setup\n",
    "    setup_time\n",
    "    \n",
    "    timings = list()\n",
    "    for _ in range(reps):   \n",
    "        t_0 = time.perf_counter()        \n",
    "        test_tpe(chunked_flat_np_arr)\n",
    "        t_e = time.perf_counter() - t_0\n",
    "        timings.append(t_e*1000)    \n",
    "    return {\"time_avg\": np.mean(timings), \"timings\": timings, \"setup_time\": setup_time*1000}  \n",
    "\n",
    "\n",
    "def time_plain_np(arr, reps):\n",
    "    setup_time = 0\n",
    "    \n",
    "    timings = list()\n",
    "    for _ in range(reps):   \n",
    "        t_0 = time.perf_counter()        \n",
    "        np_min_max(arr)\n",
    "        t_e = time.perf_counter() - t_0 \n",
    "        timings.append(t_e*1000)    \n",
    "    return {\"time_avg\": np.mean(timings), \"timings\": timings, \"setup_time\": setup_time}  \n",
    "\n",
    "\n",
    "def time_dask(arr, reps):\n",
    "    start_setup = time.perf_counter()\n",
    "    dask_arr = da.from_array(arr)\n",
    "    setup_time = time.perf_counter() - start_setup\n",
    "    setup_time\n",
    "    \n",
    "    timings = list()\n",
    "    for _ in range(reps):   \n",
    "        t_0 = time.perf_counter()        \n",
    "        dask_min_max(dask_arr)\n",
    "        t_e = time.perf_counter() - t_0\n",
    "        timings.append(t_e*1000)    \n",
    "    return {\"time_avg\": np.mean(timings), \"timings\": timings, \"setup_time\": setup_time}  \n",
    "\n",
    "def time_jit_parallelized(arr, reps):\n",
    "    setup_time = 0\n",
    "    \n",
    "    timings = list()\n",
    "    for _ in range(reps):   \n",
    "        t_0 = time.perf_counter()        \n",
    "        nanminmax_parallel(arr, 4)\n",
    "        t_e = time.perf_counter() - t_0\n",
    "        timings.append(t_e*1000)    \n",
    "    return {\"time_avg\": np.mean(timings), \"timings\": timings, \"setup_time\": setup_time*1000}  "
   ]
  },
  {
   "cell_type": "code",
   "execution_count": null,
   "id": "e889ae72",
   "metadata": {},
   "outputs": [],
   "source": [
    "def time_all(reps=2):\n",
    "    timings = dict(reps=reps)\n",
    "    for size in ARR_SIZES:\n",
    "        timings[size] = dict()\n",
    "        size_timing = timings[size]\n",
    "        arr = np.random.rand(size).ravel()\n",
    "\n",
    "        size_timing[\"plain\"] = time_plain_np(arr, reps)\n",
    "        size_timing[\"multithreaded\"] = time_multithreaded(arr, reps)\n",
    "        size_timing[\"dask\"] = time_dask(arr, reps)\n",
    "        size_timing[\"jit_parallel\"] = time_jit_parallelized(arr, reps)\n",
    "        time.sleep(0.1)\n",
    "    return timings\n",
    "\n",
    "def get_timings_for(timing_dict, method: str):\n",
    "    timings = list()\n",
    "    for size in ARR_SIZES:\n",
    "        t = timing_dict[size][method][\"time_avg\"]\n",
    "        timings.append(t)\n",
    "    return timings"
   ]
  },
  {
   "cell_type": "code",
   "execution_count": null,
   "id": "8d3ae86c",
   "metadata": {},
   "outputs": [],
   "source": [
    "ARR_SIZES = [1000, 10000, 100000, 1000000, 5000000, 25000000, 100000000, 250000000, 500000000, 1000000000]"
   ]
  },
  {
   "cell_type": "code",
   "execution_count": null,
   "id": "f75d7c6b",
   "metadata": {},
   "outputs": [],
   "source": [
    "REPS = 1"
   ]
  },
  {
   "cell_type": "code",
   "execution_count": null,
   "id": "49fad961",
   "metadata": {},
   "outputs": [],
   "source": [
    "for size in ARR_SIZES:\n",
    "    arr = np.random.rand(10)    \n",
    "    nanminmax_parallel(arr, 2)\n"
   ]
  },
  {
   "cell_type": "code",
   "execution_count": null,
   "id": "6a81f015",
   "metadata": {},
   "outputs": [],
   "source": [
    "timing_results = time_all(REPS)"
   ]
  },
  {
   "cell_type": "code",
   "execution_count": null,
   "id": "a46ca8b3",
   "metadata": {},
   "outputs": [],
   "source": [
    "fig = plt.figure()\n",
    "x = ARR_SIZES\n",
    "\n",
    "y_plain = get_timings_for(timing_results, \"plain\")\n",
    "plt.plot(x, y_plain, '--', color='blue', label='plain numpy')\n",
    "\n",
    "y_dask = get_timings_for(timing_results, \"dask\")\n",
    "plt.plot(x, y_dask, '--', color='orange', label='dask')\n",
    "\n",
    "y_multithreaded = get_timings_for(timing_results, \"multithreaded\")\n",
    "plt.plot(x, y_multithreaded, '--', color='purple', label='multithreaded')\n",
    "\n",
    "y_jit = get_timings_for(timing_results, \"jit_parallel\")\n",
    "plt.plot(x, y_jit, '--', color='black', label='jit_parallel')\n",
    "\n",
    "plt.grid(axis='x', color='0.95')\n",
    "plt.xscale('log')\n",
    "plt.xlabel('Array size', fontsize=18)\n",
    "plt.ylabel('Time taken (ms)', fontsize=16)\n",
    "plt.legend(title='Calculation method:')\n",
    "plt.title(f'AVG of {REPS} repetitions using an i7-3770 @ 4.3GHz', fontsize=10)\n",
    "plt.suptitle('Benchmarking nanmin&nanmax calculation', fontsize=15)\n",
    "#plt.set_title('axes title')\n",
    "plt.show()"
   ]
  },
  {
   "cell_type": "code",
   "execution_count": null,
   "id": "dc250501",
   "metadata": {},
   "outputs": [],
   "source": [
    "fig = plt.figure()\n",
    "x = ARR_SIZES\n",
    "\n",
    "y_plain = get_timings_for(timing_results, \"plain\")\n",
    "plt.plot(x, y_plain, '--', color='blue', label='plain numpy')\n",
    "\n",
    "y_dask = get_timings_for(timing_results, \"dask\")\n",
    "plt.plot(x, y_dask, '--', color='orange', label='dask')\n",
    "\n",
    "y_multithreaded = get_timings_for(timing_results, \"multithreaded\")\n",
    "plt.plot(x, y_multithreaded, '--', color='purple', label='multithreaded')\n",
    "\n",
    "y_jit = get_timings_for(timing_results, \"jit_parallel\")\n",
    "plt.plot(x, y_jit, '--', color='black', label='jit_parallel')\n",
    "\n",
    "plt.grid(axis='x', color='0.95')\n",
    "plt.xscale('log')\n",
    "plt.yscale('log')\n",
    "plt.xlabel('Array size', fontsize=18)\n",
    "plt.ylabel('Time taken (ms)', fontsize=16)\n",
    "plt.legend(title='Calculation method:')\n",
    "plt.title(f'AVG of {REPS} repetitions using an i7-3770 @ 4.3GHz', fontsize=10)\n",
    "plt.suptitle('Benchmarking nanmin&nanmax calculation', fontsize=15)\n",
    "#plt.set_title('axes title')\n",
    "plt.show()"
   ]
  },
  {
   "cell_type": "code",
   "execution_count": null,
   "id": "fe6ee9e1",
   "metadata": {},
   "outputs": [],
   "source": []
  },
  {
   "cell_type": "code",
   "execution_count": null,
   "id": "80d8ae68",
   "metadata": {},
   "outputs": [],
   "source": [
    "#arr = np.random.rand(1000000000)"
   ]
  },
  {
   "cell_type": "code",
   "execution_count": null,
   "id": "ad956698",
   "metadata": {},
   "outputs": [],
   "source": [
    "#%timeit minmax_chunks_nan(arr, 4)  # (c) Saltrock"
   ]
  },
  {
   "cell_type": "code",
   "execution_count": null,
   "id": "b670c2e2",
   "metadata": {},
   "outputs": [],
   "source": [
    "#%timeit np_min_max(arr)  #  np.min+np.max"
   ]
  },
  {
   "cell_type": "code",
   "execution_count": null,
   "id": "b8367622",
   "metadata": {},
   "outputs": [],
   "source": [
    "#%timeit nb_min_max(arr) #  deleting nans then np.min+np.max with JIT"
   ]
  },
  {
   "cell_type": "code",
   "execution_count": null,
   "id": "27f0f8e5",
   "metadata": {},
   "outputs": [],
   "source": [
    "#chunked_flat_np_arr = np.split(arr, 16) #  Multithreading\n",
    "#%timeit test_tpe(chunked_flat_np_arr)"
   ]
  },
  {
   "cell_type": "code",
   "execution_count": null,
   "id": "c9d27b23",
   "metadata": {},
   "outputs": [],
   "source": [
    "#dask_arr = da.from_array(arr)  # Multiprocessing\n",
    "#%timeit dask_min_max(dask_arr)"
   ]
  },
  {
   "cell_type": "code",
   "execution_count": null,
   "id": "d17bd1e4",
   "metadata": {},
   "outputs": [],
   "source": []
  }
 ],
 "metadata": {
  "kernelspec": {
   "display_name": "Python 3",
   "language": "python",
   "name": "python3"
  },
  "language_info": {
   "codemirror_mode": {
    "name": "ipython",
    "version": 3
   },
   "file_extension": ".py",
   "mimetype": "text/x-python",
   "name": "python",
   "nbconvert_exporter": "python",
   "pygments_lexer": "ipython3",
   "version": "3.9.0"
  }
 },
 "nbformat": 4,
 "nbformat_minor": 5
}
